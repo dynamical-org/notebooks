{
 "cells": [
  {
   "cell_type": "code",
   "execution_count": null,
   "metadata": {
    "metadata": {}
   },
   "outputs": [],
   "source": [
    "import matplotlib.pyplot as plt\n",
    "import xarray as xr"
   ]
  },
  {
   "cell_type": "code",
   "execution_count": null,
   "metadata": {
    "metadata": {}
   },
   "outputs": [],
   "source": [
    "ds = xr.open_dataset(\"https://data.source.coop/aldenks/gfs-dynamical/analysis/v0.1.0.zarr\", engine=\"zarr\", chunks={})\n",
    "ds"
   ]
  },
  {
   "cell_type": "code",
   "execution_count": null,
   "metadata": {
    "metadata": {}
   },
   "outputs": [],
   "source": [
    "ds['temperature_2m'].sel(time='2024-05-01T00:00').plot(figsize=(12,8))"
   ]
  },
  {
   "cell_type": "code",
   "execution_count": null,
   "metadata": {
    "metadata": {}
   },
   "outputs": [],
   "source": [
    "tmp_april_mean = ds['temperature_surface'].sel(time=ds.time.dt.month == 4).mean(dim='time')\n",
    "\n",
    "tmp_april_2024 = ds['temperature_surface'].sel(time='2024-04').mean(dim='time')\n",
    "\n",
    "# April 2024 temperature anomaly\n",
    "(tmp_april_2024 - tmp_april_mean).plot(figsize=(12, 8))"
   ]
  },
  {
   "cell_type": "code",
   "execution_count": null,
   "metadata": {
    "metadata": {}
   },
   "outputs": [],
   "source": [
    "(\n",
    "    ds['temperature_surface'].sel(\n",
    "        time='2024-04-01T00:00',\n",
    "        latitude=slice(70, 20),\n",
    "        longitude=slice(-150, -30)\n",
    "    )\n",
    "    .plot(figsize=(12, 8))\n",
    ")"
   ]
  },
  {
   "cell_type": "code",
   "execution_count": null,
   "metadata": {
    "metadata": {}
   },
   "outputs": [],
   "source": [
    "(\n",
    "    ds['precipitation_surface'].sel(\n",
    "        latitude=slice(70, 20),\n",
    "        longitude=slice(-150, -30)\n",
    "    )\n",
    "    .mean(dim='time')\n",
    "    .plot(figsize=(12, 8))\n",
    ")"
   ]
  },
  {
   "cell_type": "code",
   "execution_count": null,
   "metadata": {
    "metadata": {}
   },
   "outputs": [],
   "source": [
    "(\n",
    "    (ds['precipitation_surface'].sel(\n",
    "        time=slice('2024-01-01', '2024-05-01'),\n",
    "    )\n",
    "    .sum(dim='time') ** 0.5)\n",
    "    .plot(figsize=(12, 8))\n",
    ")"
   ]
  },
  {
   "cell_type": "code",
   "execution_count": null,
   "metadata": {
    "metadata": {}
   },
   "outputs": [],
   "source": [
    "wind_speed = (ds['wind_u_10m_above_ground']**2 + ds['wind_v_10m_above_ground']**2) ** 0.5\n",
    "wind_speed.sel(time='2024-04-10T00').plot(figsize=(13, 8), cmap='YlGnBu_r')"
   ]
  },
  {
   "cell_type": "code",
   "execution_count": null,
   "metadata": {
    "metadata": {}
   },
   "outputs": [],
   "source": [
    "wind_speed = (ds['wind_u_10m_above_ground']**2 + ds['wind_v_10m_above_ground']**2) ** 0.5\n",
    "ws = wind_speed.sel(time=slice('2023-01-01T00:00', '2024-01-01T00:00'))\n",
    "ws.load()\n",
    "ws"
   ]
  },
  {
   "cell_type": "code",
   "execution_count": null,
   "metadata": {
    "metadata": {}
   },
   "outputs": [],
   "source": [
    "from matplotlib.animation import FuncAnimation\n",
    "\n",
    "w = ws.sel(time=slice('2023-01-01T00', '2023-02-01T00'))\n",
    "\n",
    "def get_title(frame_da):\n",
    "    return f\"NOAA GFS Wind Speed {frame_da.time.dt.strftime('%Y-%m-%d').item()}\"\n",
    "\n",
    "\n",
    "fig, ax = plt.subplots(figsize=(1440/150 - 0.01, 721/150))\n",
    "\n",
    "frame_0 = w.isel(time=0)\n",
    "img = ax.imshow(frame_0.values, cmap='YlGnBu_r')\n",
    "title = ax.set_title(get_title(frame_0), y=.94, color='white')\n",
    "\n",
    "ax.axis(\"off\")\n",
    "fig.subplots_adjust(0, 0, 1, 1)\n",
    "\n",
    "def update_animation(frame_da):\n",
    "    img.set_data(frame_da.values)\n",
    "    title.set_text(get_title(frame_da))\n",
    "\n",
    "anim = FuncAnimation(fig=fig, func=update_animation, frames=w, interval=int(1000/15))\n",
    "anim.save(\"gfs-wind-speed-2023-jan.webp\", writer='imagemagick')"
   ]
  },
  {
   "cell_type": "code",
   "execution_count": null,
   "metadata": {},
   "outputs": [],
   "source": [
    "p = ds['precipitation_surface'].sel(time=slice('2023-01-01T00:00', '2023-02-01T00:00'))\n",
    "p.load()"
   ]
  },
  {
   "cell_type": "code",
   "execution_count": null,
   "metadata": {},
   "outputs": [],
   "source": [
    "import cmocean\n",
    "from matplotlib.animation import FuncAnimation\n",
    "\n",
    "anim_da = p\n",
    "\n",
    "def get_title(frame_da):\n",
    "    return f\"NOAA GFS Precipitation {frame_da.time.dt.strftime('%Y-%m-%d').item()}\"\n",
    "\n",
    "\n",
    "fig, ax = plt.subplots(figsize=(1440/150 - 0.01, 721/150))\n",
    "\n",
    "frame_0 = anim_da.isel(time=0)\n",
    "img = ax.imshow(frame_0.values, cmap=cmocean.cm.thermal, vmin=0, vmax=5e-4)\n",
    "title = ax.set_title(get_title(frame_0), y=.94, color='white')\n",
    "\n",
    "ax.axis(\"off\")\n",
    "fig.subplots_adjust(0, 0, 1, 1)\n",
    "\n",
    "def update_animation(frame_da):\n",
    "    img.set_data(frame_da.values)\n",
    "    title.set_text(get_title(frame_da))\n",
    "\n",
    "anim = FuncAnimation(fig=fig, func=update_animation, frames=anim_da, interval=int(1000/15))\n",
    "anim.save(\"gfs-precipitation-2023-jan.webp\", writer='imagemagick')"
   ]
  },
  {
   "cell_type": "code",
   "execution_count": null,
   "metadata": {},
   "outputs": [],
   "source": [
    "t = ds['temperature_surface'].sel(time=slice('2023-01-01T00:00', '2023-02-01T00:00'))\n",
    "t.load()"
   ]
  },
  {
   "cell_type": "code",
   "execution_count": null,
   "metadata": {},
   "outputs": [],
   "source": [
    "import cmocean\n",
    "from matplotlib.animation import FuncAnimation\n",
    "\n",
    "anim_da = t.sel(latitude=slice(72, 22), longitude=slice(-23, 161))\n",
    "\n",
    "def get_title(frame_da):\n",
    "    return f\"NOAA GFS Temperature {frame_da.time.dt.strftime('%Y-%m-%d').item()}\"\n",
    "\n",
    "\n",
    "fig, ax = plt.subplots(figsize=(len(anim_da.longitude)/70 - 0.01, len(anim_da.latitude)/70))\n",
    "\n",
    "frame_0 = anim_da.isel(time=0)\n",
    "img = ax.imshow(frame_0.values, cmap=cmocean.cm.balance, vmin=-50, vmax=50)\n",
    "title = ax.set_title(get_title(frame_0), y=.9, color='black')\n",
    "\n",
    "ax.axis(\"off\")\n",
    "fig.subplots_adjust(0, 0, 1, 1)\n",
    "\n",
    "def update_animation(frame_da):\n",
    "    img.set_data(frame_da.values)\n",
    "    title.set_text(get_title(frame_da))\n",
    "\n",
    "anim = FuncAnimation(fig=fig, func=update_animation, frames=anim_da, interval=int(1000/10))\n",
    "anim.save(\"gfs-temperature-2023-jan.webp\", writer='imagemagick')"
   ]
  }
 ],
 "metadata": {
  "kernelspec": {
   "display_name": ".venv",
   "language": "python",
   "name": "python3"
  },
  "language_info": {
   "codemirror_mode": {
    "name": "ipython",
    "version": 3
   },
   "file_extension": ".py",
   "mimetype": "text/x-python",
   "name": "python",
   "nbconvert_exporter": "python",
   "pygments_lexer": "ipython3",
   "version": "3.11.6"
  }
 },
 "nbformat": 4,
 "nbformat_minor": 2
}
